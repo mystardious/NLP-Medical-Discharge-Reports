{
 "cells": [
  {
   "cell_type": "code",
   "execution_count": 1,
   "metadata": {},
   "outputs": [
    {
     "output_type": "display_data",
     "data": {
      "text/plain": "     ROW_ID  SUBJECT_ID  HADM_ID   CHARTDATE  CHARTTIME  STORETIME  \\\n0       174       22532   167853  2151-08-04        NaN        NaN   \n1       175       13702   107527  2118-06-14        NaN        NaN   \n2       176       13702   167118  2119-05-25        NaN        NaN   \n3       177       13702   196489  2124-08-18        NaN        NaN   \n4       178       26880   135453  2162-03-25        NaN        NaN   \n..      ...         ...      ...         ...        ...        ...   \n995    1158       15198   137838  2184-10-21        NaN        NaN   \n996    1159        2712   198266  2101-02-15        NaN        NaN   \n997    1160        2712   157537  2103-07-18        NaN        NaN   \n998    1161       18511   123903  2191-03-03        NaN        NaN   \n999    1162       76558   186116  2157-12-04        NaN        NaN   \n\n              CATEGORY DESCRIPTION  CGID  ISERROR  \\\n0    Discharge summary      Report   NaN      NaN   \n1    Discharge summary      Report   NaN      NaN   \n2    Discharge summary      Report   NaN      NaN   \n3    Discharge summary      Report   NaN      NaN   \n4    Discharge summary      Report   NaN      NaN   \n..                 ...         ...   ...      ...   \n995  Discharge summary      Report   NaN      NaN   \n996  Discharge summary      Report   NaN      NaN   \n997  Discharge summary      Report   NaN      NaN   \n998  Discharge summary      Report   NaN      NaN   \n999  Discharge summary      Report   NaN      NaN   \n\n                                                  TEXT  \n0    Admission Date:  [**2151-7-16**]       Dischar...  \n1    Admission Date:  [**2118-6-2**]       Discharg...  \n2    Admission Date:  [**2119-5-4**]              D...  \n3    Admission Date:  [**2124-7-21**]              ...  \n4    Admission Date:  [**2162-3-3**]              D...  \n..                                                 ...  \n995  Admission Date:  [**2184-10-14**]       Discha...  \n996  Admission Date:  [**2101-2-10**]              ...  \n997  Admission Date:  [**2103-7-17**]              ...  \n998  Admission Date:  [**2191-2-23**]              ...  \n999  Admission Date:  [**2157-12-1**]              ...  \n\n[1000 rows x 11 columns]",
      "text/html": "<div>\n<style scoped>\n    .dataframe tbody tr th:only-of-type {\n        vertical-align: middle;\n    }\n\n    .dataframe tbody tr th {\n        vertical-align: top;\n    }\n\n    .dataframe thead th {\n        text-align: right;\n    }\n</style>\n<table border=\"1\" class=\"dataframe\">\n  <thead>\n    <tr style=\"text-align: right;\">\n      <th></th>\n      <th>ROW_ID</th>\n      <th>SUBJECT_ID</th>\n      <th>HADM_ID</th>\n      <th>CHARTDATE</th>\n      <th>CHARTTIME</th>\n      <th>STORETIME</th>\n      <th>CATEGORY</th>\n      <th>DESCRIPTION</th>\n      <th>CGID</th>\n      <th>ISERROR</th>\n      <th>TEXT</th>\n    </tr>\n  </thead>\n  <tbody>\n    <tr>\n      <th>0</th>\n      <td>174</td>\n      <td>22532</td>\n      <td>167853</td>\n      <td>2151-08-04</td>\n      <td>NaN</td>\n      <td>NaN</td>\n      <td>Discharge summary</td>\n      <td>Report</td>\n      <td>NaN</td>\n      <td>NaN</td>\n      <td>Admission Date:  [**2151-7-16**]       Dischar...</td>\n    </tr>\n    <tr>\n      <th>1</th>\n      <td>175</td>\n      <td>13702</td>\n      <td>107527</td>\n      <td>2118-06-14</td>\n      <td>NaN</td>\n      <td>NaN</td>\n      <td>Discharge summary</td>\n      <td>Report</td>\n      <td>NaN</td>\n      <td>NaN</td>\n      <td>Admission Date:  [**2118-6-2**]       Discharg...</td>\n    </tr>\n    <tr>\n      <th>2</th>\n      <td>176</td>\n      <td>13702</td>\n      <td>167118</td>\n      <td>2119-05-25</td>\n      <td>NaN</td>\n      <td>NaN</td>\n      <td>Discharge summary</td>\n      <td>Report</td>\n      <td>NaN</td>\n      <td>NaN</td>\n      <td>Admission Date:  [**2119-5-4**]              D...</td>\n    </tr>\n    <tr>\n      <th>3</th>\n      <td>177</td>\n      <td>13702</td>\n      <td>196489</td>\n      <td>2124-08-18</td>\n      <td>NaN</td>\n      <td>NaN</td>\n      <td>Discharge summary</td>\n      <td>Report</td>\n      <td>NaN</td>\n      <td>NaN</td>\n      <td>Admission Date:  [**2124-7-21**]              ...</td>\n    </tr>\n    <tr>\n      <th>4</th>\n      <td>178</td>\n      <td>26880</td>\n      <td>135453</td>\n      <td>2162-03-25</td>\n      <td>NaN</td>\n      <td>NaN</td>\n      <td>Discharge summary</td>\n      <td>Report</td>\n      <td>NaN</td>\n      <td>NaN</td>\n      <td>Admission Date:  [**2162-3-3**]              D...</td>\n    </tr>\n    <tr>\n      <th>...</th>\n      <td>...</td>\n      <td>...</td>\n      <td>...</td>\n      <td>...</td>\n      <td>...</td>\n      <td>...</td>\n      <td>...</td>\n      <td>...</td>\n      <td>...</td>\n      <td>...</td>\n      <td>...</td>\n    </tr>\n    <tr>\n      <th>995</th>\n      <td>1158</td>\n      <td>15198</td>\n      <td>137838</td>\n      <td>2184-10-21</td>\n      <td>NaN</td>\n      <td>NaN</td>\n      <td>Discharge summary</td>\n      <td>Report</td>\n      <td>NaN</td>\n      <td>NaN</td>\n      <td>Admission Date:  [**2184-10-14**]       Discha...</td>\n    </tr>\n    <tr>\n      <th>996</th>\n      <td>1159</td>\n      <td>2712</td>\n      <td>198266</td>\n      <td>2101-02-15</td>\n      <td>NaN</td>\n      <td>NaN</td>\n      <td>Discharge summary</td>\n      <td>Report</td>\n      <td>NaN</td>\n      <td>NaN</td>\n      <td>Admission Date:  [**2101-2-10**]              ...</td>\n    </tr>\n    <tr>\n      <th>997</th>\n      <td>1160</td>\n      <td>2712</td>\n      <td>157537</td>\n      <td>2103-07-18</td>\n      <td>NaN</td>\n      <td>NaN</td>\n      <td>Discharge summary</td>\n      <td>Report</td>\n      <td>NaN</td>\n      <td>NaN</td>\n      <td>Admission Date:  [**2103-7-17**]              ...</td>\n    </tr>\n    <tr>\n      <th>998</th>\n      <td>1161</td>\n      <td>18511</td>\n      <td>123903</td>\n      <td>2191-03-03</td>\n      <td>NaN</td>\n      <td>NaN</td>\n      <td>Discharge summary</td>\n      <td>Report</td>\n      <td>NaN</td>\n      <td>NaN</td>\n      <td>Admission Date:  [**2191-2-23**]              ...</td>\n    </tr>\n    <tr>\n      <th>999</th>\n      <td>1162</td>\n      <td>76558</td>\n      <td>186116</td>\n      <td>2157-12-04</td>\n      <td>NaN</td>\n      <td>NaN</td>\n      <td>Discharge summary</td>\n      <td>Report</td>\n      <td>NaN</td>\n      <td>NaN</td>\n      <td>Admission Date:  [**2157-12-1**]              ...</td>\n    </tr>\n  </tbody>\n</table>\n<p>1000 rows × 11 columns</p>\n</div>"
     },
     "metadata": {}
    }
   ],
   "source": [
    "import pandas as pd\n",
    "from IPython.display import display\n",
    "\n",
    "data = pd.read_csv(r\"C:\\Users\\Mystardious\\PycharmProjects\\scikit_learn_classifier\\data\\NOTEEVENTS.csv.gz\", nrows=1000, compression=r\"gzip\", error_bad_lines=False)\n",
    "\n",
    "display(data)"
   ]
  },
  {
   "cell_type": "code",
   "execution_count": 2,
   "metadata": {},
   "outputs": [
    {
     "output_type": "stream",
     "name": "stdout",
     "text": [
      "                                                    TEXT           HEADER\n18093                    kidney disease father hx mi age   family_history\n4262              patient recorded known allergies drugs        allergies\n33450  year old male type diabetes years end stage re...  history_illness\n19182  family history premature coronary artery disea...   family_history\n42698  mr yo gentleman dementia pvd diastolic chf afi...  history_illness\n...                                                  ...              ...\n26028                                                 na   family_history\n11816                               known drug allergies        allergies\n5435                                known drug allergies        allergies\n2519                                          omeprazole        allergies\n43688  mr year old male known history coronary artery...  history_illness\n\n[59795 rows x 2 columns]\n                                                    TEXT           HEADER\n28730  brief yo woman history svt long r p followed y...  history_illness\n8709                     hydrochlorothiazide allopurinol        allergies\n58610                  active lives alone golfs tob etoh   social_history\n21444                                         none noted   family_history\n17929                                    noncontributory   family_history\n...                                                  ...              ...\n52262  patient drinks one case beer per day pack year...   social_history\n47630  lives husband home assissts adls prior hospita...   social_history\n45144  yo male metastatic esophageal carcinoma curren...  history_illness\n22487                                   cad htn dm sprue   family_history\n13732            iv dye iodine containing contrast media        allergies\n\n[59795 rows x 2 columns]\n"
     ]
    }
   ],
   "source": [
    "from gensim.models.doc2vec import Doc2Vec, TaggedDocument\n",
    "from nltk.tokenize import word_tokenize\n",
    "import dataread\n",
    "import classifierutils\n",
    "import pandas as pd\n",
    "from sklearn.utils import shuffle\n",
    "\n",
    "\"\"\"Variables\"\"\"\n",
    "\n",
    "headers = ['allergies', 'family_history', 'history_illness', 'social_history']\n",
    "\n",
    "\"\"\"Import data\"\"\"\n",
    "\n",
    "# header --> [header, original, tokenized, tokenized_labelled]\n",
    "header_corpus = {}\n",
    "\n",
    "for header in headers:\n",
    "    header_corpus[header] = {}\n",
    "    header_corpus[header]['label'] = header\n",
    "    header_corpus[header]['original'] = pd.Series(\n",
    "        dataread.read_file(header+'.txt')\n",
    "    )\n",
    "    temp = classifierutils.corpus_preprocess(\n",
    "        header_corpus[header]['original'],\n",
    "        header\n",
    "    )\n",
    "    header_corpus[header]['labelled'] = temp[0]\n",
    "    header_corpus[header]['labelled_tokenised'] = temp[1]\n",
    "\n",
    "mixed_labelled = pd.DataFrame()\n",
    "for value in header_corpus.values():\n",
    "    mixed_labelled = mixed_labelled.append(value['labelled'])\n",
    "    \n",
    "mixed_labelled_tokenised = pd.DataFrame()\n",
    "for value in header_corpus.values():\n",
    "    mixed_labelled_tokenised = mixed_labelled_tokenised.append(value['labelled_tokenised'])\n",
    "# mixed_labelled_tokenised = mixed_labelled_tokenised.\n",
    "\n",
    "mixed_labelled_tokenised =  mixed_labelled_tokenised.reset_index(drop=True)\n",
    "mixed_labelled =  mixed_labelled.reset_index(drop=True)\n",
    "\n",
    "mixed_labelled = shuffle(mixed_labelled)\n",
    "mixed_labelled_tokenised = shuffle(mixed_labelled)\n",
    "\n",
    "print(mixed_labelled_tokenised)\n",
    "print(mixed_labelled)"
   ]
  },
  {
   "cell_type": "code",
   "execution_count": 2,
   "metadata": {},
   "outputs": [],
   "source": [
    "# from corpus import *\n",
    "# from IPython.display import display\n",
    "# import dataread\n",
    "\n",
    "# corpus = Corpus()\n",
    "# samples = dataread.read_samples(5)\n",
    "# for sample in samples:\n",
    "#     corpus.add_string(sample)\n",
    "\n",
    "# display(corpus.data)"
   ]
  },
  {
   "cell_type": "code",
   "execution_count": null,
   "metadata": {},
   "outputs": [],
   "source": []
  }
 ],
 "metadata": {
  "kernelspec": {
   "display_name": "Python 3",
   "language": "python",
   "name": "python3"
  },
  "language_info": {
   "codemirror_mode": {
    "name": "ipython",
    "version": 3
   },
   "file_extension": ".py",
   "mimetype": "text/x-python",
   "name": "python",
   "nbconvert_exporter": "python",
   "pygments_lexer": "ipython3",
   "version": "3.8.2-final"
  }
 },
 "nbformat": 4,
 "nbformat_minor": 4
}